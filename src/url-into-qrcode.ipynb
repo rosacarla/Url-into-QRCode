{
 "cells": [
  {
   "cell_type": "markdown",
   "id": "f55cec81",
   "metadata": {},
   "source": [
    "# Código: URL em QR Code\n",
    "### Autora: Carla Edila Silveira\n",
    "### Contato: rosa.carla@pucpr.edu.br\n",
    "### Finalidade: converter uma URL em um QR Code com uso do pacote qrcode do Python\n",
    "### Data: 25/08/2022"
   ]
  },
  {
   "cell_type": "code",
   "execution_count": 3,
   "id": "0dd99393",
   "metadata": {},
   "outputs": [],
   "source": [
    "# Instala pacote qrcode\n",
    "!pip install -q qrcode"
   ]
  },
  {
   "cell_type": "code",
   "execution_count": 4,
   "id": "d5f71764",
   "metadata": {},
   "outputs": [],
   "source": [
    "# Importa biblioteca qrcode\n",
    "import qrcode"
   ]
  },
  {
   "cell_type": "code",
   "execution_count": 5,
   "id": "43c2084d",
   "metadata": {},
   "outputs": [
    {
     "data": {
      "image/png": "[encoded data removed]",
      "text/plain": [
       "<qrcode.image.pil.PilImage at 0x2450b5834f0>"
      ]
     },
     "execution_count": 5,
     "metadata": {},
     "output_type": "execute_result"
    }
   ],
   "source": [
    "# Converte em QR Code a URL passada por parâmetro e mostra a imagem na tela\n",
    "qrcode.make('https://github.com/rosacarla')"
   ]
  },
  {
   "cell_type": "code",
   "execution_count": 6,
   "id": "7351399e",
   "metadata": {},
   "outputs": [],
   "source": [
    "# Salva imagem do QR Code em um arquivo do tipo .png\n",
    "image = qrcode.make('https://github.com/rosacarla')\n",
    "image.save('github-rosacarla.png')"
   ]
  },
  {
   "cell_type": "code",
   "execution_count": 11,
   "id": "f706d9ee",
   "metadata": {},
   "outputs": [
    {
     "data": {
      "image/png": "[encoded data removed]",
      "text/plain": [
       "<qrcode.image.pil.PilImage at 0x2450da97fd0>"
      ]
     },
     "execution_count": 11,
     "metadata": {},
     "output_type": "execute_result"
    }
   ],
   "source": [
    "# Cria objeto QR Code com alteração do tamanho\n",
    "qr = qrcode.QRCode(version = 2, \n",
    "                   box_size = 12, \n",
    "                   border = 6) \n",
    "qr.add_data('https://www.atlassian.com/br/agile/devops')\n",
    "qr.make(fit=True)\n",
    "\n",
    "# Muda parâmetros de cores (1o. plano e plano de fundo)\n",
    "qr.make_image(fill_color=\"navy\", back_color=\"white\")"
   ]
  }
 ],
 "metadata": {
  "kernelspec": {
   "display_name": "Python 3 (ipykernel)",
   "language": "python",
   "name": "python3"
  },
  "language_info": {
   "codemirror_mode": {
    "name": "ipython",
    "version": 3
   },
   "file_extension": ".py",
   "mimetype": "text/x-python",
   "name": "python",
   "nbconvert_exporter": "python",
   "pygments_lexer": "ipython3",
   "version": "3.9.12"
  }
 },
 "nbformat": 4,
 "nbformat_minor": 5
}
